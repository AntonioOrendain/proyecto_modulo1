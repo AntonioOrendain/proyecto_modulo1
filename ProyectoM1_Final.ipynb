{
 "cells": [
  {
   "cell_type": "markdown",
   "metadata": {},
   "source": [
    "# Proyecto Modulo 1: Optimización en Dosificación del  Concreto"
   ]
  },
  {
   "cell_type": "markdown",
   "metadata": {},
   "source": [
    "![ITESO](https://st2.depositphotos.com/1111050/11917/i/950/depositphotos_119178666-stock-photo-a-concrete-building.jpg)"
   ]
  },
  {
   "cell_type": "markdown",
   "metadata": {},
   "source": [
    "> ### Antonio Morales  \n",
    "> ### Fernando Jiménez  \n",
    "> ### Lorena Villafaña"
   ]
  },
  {
   "cell_type": "markdown",
   "metadata": {},
   "source": [
    "Uno de los problemas que se presentan en obra es la preparación del concreto segun la resistencia necesaria para el proyecto. Porque aunque la dosificación esta establecida, en la práctica no se repesta totalmete por diferentes factores.\n",
    "En este proyecto queremos asegurar que la preparación de concreto sea viable en obra, apesar de las variaciones en la dosificacion y siga cumpliendo con la resistencia adecuada( **F'c=250 Kg/cm2**)pero con un costo **Mínimo**."
   ]
  },
  {
   "cell_type": "markdown",
   "metadata": {},
   "source": [
    "### Minimizar el costo"
   ]
  },
  {
   "cell_type": "markdown",
   "metadata": {},
   "source": [
    "El análisis de las cantidades necesarias se hará en base a las especificaciones para el concreto  F'c=250 KG/CM2.  \n",
    "Nuestras variables son los compuestos a usar en la mezcla, para simplificar su notación:\n",
    "+ $x_1:$ Cemento \n",
    "+ $x_2:$ Grava  \n",
    "+ $x_3:$ Arena  \n",
    "+ $x_4:$ Agua  \n"
   ]
  },
  {
   "cell_type": "markdown",
   "metadata": {},
   "source": [
    "En la siguiente tabla se establecen los datos _(en porcentajes)_ de la cantidad permitida de variación en cada compuesto en el **total del mezcla**:\n",
    "\n",
    "\n",
    "Compuesto|Porcentaje Permitido(%)\n",
    ":----|----\n",
    "Cemento|  16 - 18\n",
    "Grava|  37 - 47\n",
    "Arena|  24 - 34\n",
    "Agua|  11 - 15\n"
   ]
  },
  {
   "cell_type": "markdown",
   "metadata": {},
   "source": [
    "La dosificación está en **\"Litros\"**, ya que es la manera de medicicón usada en obra. Los costos de cada elemento son:\n",
    "\n",
    "Ingrediente|Costo por litro\n",
    ":----|----\n",
    "Cemento|$\\$$4.39\n",
    "Grava|$\\$$3.70\n",
    "Arena|$\\$$2.70\n",
    "Agua|$\\$$1.50\n",
    "  "
   ]
  },
  {
   "cell_type": "markdown",
   "metadata": {},
   "source": [
    "###  Funcion objetivo\n",
    "Toma los valores del costo por litro de cada compuesto, ya que el objetivo es minimizar el costo.\n",
    "+ $4.39x_1$ + $3.70x_2 +2.70x_3 + 1.50x_4 $ = minimizar costo\n"
   ]
  },
  {
   "cell_type": "markdown",
   "metadata": {},
   "source": [
    "### Restricciones \n",
    "**Restriciones de desigualdad**\n",
    "\n",
    "+ $x_1\\geq 16$\n",
    "+ $x_1\\leq 18$\n",
    "\n",
    "+ $x_2\\geq 37$\n",
    "+ $x_2\\leq 47$\n",
    "\n",
    "+ $x_3\\geq 24$\n",
    "+ $x_3\\leq 34$\n",
    "\n",
    "+ $x_4\\geq 11$\n",
    "+ $x_4\\leq 15$\n",
    "\n",
    "**Restricciones de igualdad**:el porcentaje total(sumado de cada elemento) debe ser igual a 100%, al mencionar que es el total de la mezcla\n",
    "\n",
    "+ $x_1+x_2+x_3+x_4 = 100$\n",
    "\n",
    "Las restricciones que tienen un mayor que son multiplicadas por **-1** ,para cambiar de sentido del operador "
   ]
  },
  {
   "cell_type": "markdown",
   "metadata": {},
   "source": [
    "Las operaciones se harán con la siguientes matrices y vectores.\n",
    "- $\\boldsymbol{c}=\\left[4.39\\quad 3.70\\quad 2.70\\quad 1.50\\right]^\\top$,\n",
    "- $\\boldsymbol{A_ub}=\\left[\\begin{array}{cc}-1 & 0 & 0 & 0 \n",
    "\\\\ 1 & 0 & 0 & 0 \n",
    "\\\\ 0 & -1 & 0 & 0 \n",
    "\\\\ 0 & 1 & 0 & 0\n",
    "\\\\ 0 & 0 & -1 & 0 \n",
    "\\\\ 0 & 1 & 1 & 0 \n",
    "\\\\ 0 & 0 & 0 & -1\n",
    "\\\\ 0 & 0 & 0 & 1 \n",
    "\\end{array}\\right]$, \n",
    "- $\\boldsymbol{b_ub}=\\left[-16\\quad 18\\quad -37\\quad 47\\quad -24\\quad 34\\quad -11\\quad 15\\right]^\\top$.\n",
    "- $\\boldsymbol{A_eq}=\\left[\\begin{array}{cc}1 & 1 & 1 & 1 \\end{array}\\right]$,\n",
    "- $\\boldsymbol{b_eq}=\\left[100\\right]^\\top$.\n",
    "\n",
    "  "
   ]
  },
  {
   "cell_type": "markdown",
   "metadata": {},
   "source": [
    "El procedimiento para encontrar los valores es el sigueinte:"
   ]
  },
  {
   "cell_type": "code",
   "execution_count": 4,
   "metadata": {},
   "outputs": [],
   "source": [
    "import numpy as np\n",
    "import matplotlib.pyplot as plt\n",
    "%matplotlib inline\n",
    "import sympy as sym\n",
    "import scipy.optimize as opt"
   ]
  },
  {
   "cell_type": "code",
   "execution_count": 5,
   "metadata": {},
   "outputs": [],
   "source": [
    "\n",
    "c = np.array([4.39,3.70,2.70,1.50])\n",
    "\n",
    "A_ub=np.array([[-1,0,0,0],[1,0,0,0],[0,-1,0,0],[0,1,0,0],[0,0,-1,0],[0,0,1,0],[0,0,0,-1],[0,0,0,1]])\n",
    "b_ub=np.array([-16,18,-37,47,-24,34,-11,15])\n",
    "\n",
    "A_eq=np.array([[1,1,1,1]])# restricciones de igualdad\n",
    "\n",
    "b_eq=np.array([100])"
   ]
  },
  {
   "cell_type": "code",
   "execution_count": 6,
   "metadata": {},
   "outputs": [
    {
     "data": {
      "text/plain": [
       "     con: array([0.])\n",
       "     fun: 316.03999999999996\n",
       " message: 'Optimization terminated successfully.'\n",
       "     nit: 7\n",
       "   slack: array([ 0.,  2.,  0., 10.,  8.,  2.,  4.,  0.])\n",
       "  status: 0\n",
       " success: True\n",
       "       x: array([16., 37., 32., 15.])"
      ]
     },
     "execution_count": 6,
     "metadata": {},
     "output_type": "execute_result"
    }
   ],
   "source": [
    "resultado=opt.linprog(c,A_ub,b_ub,A_eq,b_eq)\n",
    "resultado"
   ]
  },
  {
   "cell_type": "code",
   "execution_count": null,
   "metadata": {},
   "outputs": [],
   "source": []
  },
  {
   "cell_type": "code",
   "execution_count": null,
   "metadata": {},
   "outputs": [],
   "source": []
  }
 ],
 "metadata": {
  "kernelspec": {
   "display_name": "Python 3",
   "language": "python",
   "name": "python3"
  },
  "language_info": {
   "codemirror_mode": {
    "name": "ipython",
    "version": 3
   },
   "file_extension": ".py",
   "mimetype": "text/x-python",
   "name": "python",
   "nbconvert_exporter": "python",
   "pygments_lexer": "ipython3",
   "version": "3.7.3"
  }
 },
 "nbformat": 4,
 "nbformat_minor": 2
}
