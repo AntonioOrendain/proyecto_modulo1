{
 "cells": [
  {
   "cell_type": "markdown",
   "metadata": {},
   "source": [
    "# Proyecto Modulo 1: Optimización en Dosificación del  Concreto"
   ]
  },
  {
   "cell_type": "markdown",
   "metadata": {},
   "source": [
    "![ITESO](https://st2.depositphotos.com/1111050/11917/i/950/depositphotos_119178666-stock-photo-a-concrete-building.jpg)"
   ]
  },
  {
   "cell_type": "markdown",
   "metadata": {},
   "source": [
    "> ### Antonio Morales  \n",
    "> ### Fernando Jimenez  \n",
    "> ### Lorena Villafaña"
   ]
  },
  {
   "cell_type": "markdown",
   "metadata": {},
   "source": [
    "Uno de los problemas que se presentan en obra es la preparación del concreto segun la resistencia necesaria para el proyecto. Porque aunque la dosificación esta establecida, en la práctica no se repesta totalmete por diferentes factores.\n",
    "En este proyecto queremos asegurar que la preparación de concreto sea viable en obra, apesar de las variaciones en la dosificacion y siga cumpliendo con la resistencia adecuada( **F'c=250 Kg/cm2**)pero con un costo **Mínimo**."
   ]
  },
  {
   "cell_type": "markdown",
   "metadata": {},
   "source": [
    "### Minimizar el costo"
   ]
  },
  {
   "cell_type": "markdown",
   "metadata": {},
   "source": [
    "El análisis de las cantidades necesarias se hará en base a las especificaciones para el concreto  F'c=250 KG/CM2.  \n",
    "Nuestras variables son los compuestos a usar en la mezcla, para simplificar su notación:\n",
    "+ $x_1:$ Cemento \n",
    "+ $x_2:$ Grava  \n",
    "+ $x_3:$ Arena  \n",
    "+ $x_4:$ Agua  \n"
   ]
  },
  {
   "cell_type": "markdown",
   "metadata": {},
   "source": [
    "En la siguiente tabla se establecen los datos _(en porcentajes)_ de la cantidad permitida de variación en cada compuesto en el **total del mezcla**:\n",
    "\n",
    "\n",
    "Compuesto|Porcentaje Permitido(%)\n",
    ":----|----\n",
    "Cemento|  16 - 18\n",
    "Grava|  37 - 47\n",
    "Arena|  24 - 34\n",
    "Agua|  11 - 15\n"
   ]
  },
  {
   "cell_type": "markdown",
   "metadata": {},
   "source": [
    "La dosificación está en **\"Litros\"**, ya que es la manera de medicicón usada en obra. Los costos de cada elemento son:\n",
    "\n",
    "Ingrediente|Costo por litro\n",
    ":----|----\n",
    "Cemento|$\\$$4.39\n",
    "Grava|$\\$$3.70\n",
    "Arena|$\\$$2.70\n",
    "Agua|$\\$$1.50\n",
    "  "
   ]
  },
  {
   "cell_type": "markdown",
   "metadata": {},
   "source": [
    "###  Funcion objetivo\n",
    "Toma los valores del costo por litro de cada compuesto, ya que el objetivo es minimizar el costo.\n",
    "+ $4.39x_1$ + $3.70x_2 +2.70x_3 + 1.50x_4 $ = minimizar costo\n"
   ]
  },
  {
<<<<<<< Updated upstream
   "cell_type": "code",
   "execution_count": 1,
   "metadata": {},
   "outputs": [],
   "source": [
    "import numpy as np\n",
    "import matplotlib.pyplot as plt\n",
    "%matplotlib inline\n",
    "import sympy as sym\n",
    "import scipy.optimize as opt"
   ]
  },
  {
   "cell_type": "markdown",
   "metadata": {},
   "source": [
    "$x_1 = Grava$\n",
    "\n",
    "$x_2 = Arena$\n",
    "\n",
    "$x_3 = Cemento$\n",
    "\n",
    "$x_4 = Agua$"
   ]
  },
  {
   "cell_type": "markdown",
   "metadata": {},
   "source": [
    "$$x_1\\geq 37$$\n",
    "$$x_1\\leq 47$$\n",
    "\n",
    "$$x_2\\geq 24$$\n",
    "$$x_2\\leq 34$$\n",
    "\n",
    "$$x_3\\geq 14$$\n",
    "$$x_3\\leq 18$$\n",
    "\n",
    "$$x_4\\geq 11$$\n",
    "$$x_4\\leq 15$$\n",
    "\n",
    "$$x_1+x_2+x_3+x_4\\geq100$$\n",
    "$$x_1+x_2+x_3+x_4\\leq100$$\n"
   ]
  },
  {
   "cell_type": "code",
   "execution_count": 2,
   "metadata": {},
   "outputs": [],
   "source": [
    "#oreden: Grava, Arena, Cemento y Agua\n",
    "c = np.array([3.7,2.7,4.39,1.5])\n",
    "\n",
    "A_ub=np.array([[-1,0,0,0],[1,0,0,0],[0,-1,0,0],[0,1,0,0],[0,0,-1,0],[0,0,1,0],[0,0,0,-1],[0,0,0,1],[1,1,1,1],[-1,-1,-1,-1]])\n",
    "b_ub=np.array([-37,47,-24,34,-14,18,-11,15,100,-100])"
   ]
  },
  {
   "cell_type": "code",
   "execution_count": 3,
   "metadata": {},
   "outputs": [
    {
     "data": {
      "text/plain": [
       "     con: array([], dtype=float64)\n",
       "     fun: 312.66\n",
       " message: 'Optimization terminated successfully.'\n",
       "     nit: 8\n",
       "   slack: array([ 0., 10., 10.,  0.,  0.,  4.,  4.,  0.,  0.,  0.])\n",
       "  status: 0\n",
       " success: True\n",
       "       x: array([37., 34., 14., 15.])"
      ]
     },
     "execution_count": 3,
     "metadata": {},
     "output_type": "execute_result"
    }
   ],
   "source": [
    "resultado=opt.linprog(c,A_ub,b_ub)\n",
    "resultado"
   ]
  },
  {
   "cell_type": "code",
   "execution_count": null,
   "metadata": {},
   "outputs": [],
   "source": []
  },
  {
   "cell_type": "code",
   "execution_count": null,
=======
   "cell_type": "markdown",
>>>>>>> Stashed changes
   "metadata": {},
   "source": [
    "### Restricciones \n",
    "**Restriciones de desigualdad**\n",
    "+ \n",
    "\n",
    "**Restricciones de igualdad**\n",
    "\n",
    "+"
   ]
  }
 ],
 "metadata": {
  "kernelspec": {
   "display_name": "Python 3",
   "language": "python",
   "name": "python3"
  },
  "language_info": {
   "codemirror_mode": {
    "name": "ipython",
    "version": 3
   },
   "file_extension": ".py",
   "mimetype": "text/x-python",
   "name": "python",
   "nbconvert_exporter": "python",
   "pygments_lexer": "ipython3",
   "version": "3.7.3"
  }
 },
 "nbformat": 4,
 "nbformat_minor": 2
}
