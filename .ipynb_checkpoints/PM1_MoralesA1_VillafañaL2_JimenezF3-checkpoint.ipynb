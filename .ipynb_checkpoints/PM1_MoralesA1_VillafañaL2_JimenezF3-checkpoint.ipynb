{
 "cells": [
  {
   "cell_type": "markdown",
   "metadata": {},
   "source": [
    "# Proyecto Modulo 1: Optimización en Dosificación del  Concreto"
   ]
  },
  {
   "cell_type": "markdown",
   "metadata": {},
   "source": [
    "![ITESO](https://st2.depositphotos.com/1111050/11917/i/950/depositphotos_119178666-stock-photo-a-concrete-building.jpg)"
   ]
  },
  {
   "cell_type": "markdown",
   "metadata": {},
   "source": [
    "> ### Antonio Morales  \n",
    "> ### Fernando Jimenez  \n",
    "> ### Lorena Villafaña"
   ]
  },
  {
   "cell_type": "markdown",
   "metadata": {},
   "source": [
    "Uno de los problemas que se presentan en obra es la preparación del concreto segun la resistencia necesaria para el proyecto. Porque aunque la dosificación esta establecida, en la práctica no se repesta totalmete por diferentes factores.\n",
    "En este proyecto queremos asegurar que la preparación de concreto sea viable en obra, apesar de las variaciones en la dosificacion y siga cumpliendo con la resistencia adecuada( **F'c=250 Kg/cm2**)pero con un costo **Mínimo**."
   ]
  },
  {
   "cell_type": "markdown",
   "metadata": {},
   "source": [
    "### Minimizar el costo"
   ]
  },
  {
   "cell_type": "markdown",
   "metadata": {},
   "source": [
    "El análisis de las cantidades necesarias se hará en base a las especificaciones para el concreto  F'c=250 KG/CM2.  \n",
    "Nuestras variables son los compuestos a usar en la mezcla, para simplificar su notación:\n",
    "+ $x_1:$ Cemento \n",
    "+ $x_2:$ Grava  \n",
    "+ $x_3:$ Arena  \n",
    "+ $x_4:$ Agua  \n"
   ]
  },
  {
   "cell_type": "markdown",
   "metadata": {},
   "source": [
    "En la siguiente tabla se establecen los datos _(en porcentajes)_ de la cantidad permitida de variación en cada compuesto en el **total del mezcla**:\n",
    "\n",
    "\n",
    "Compuesto|Porcentaje Permitido(%)\n",
    ":----|----\n",
    "Cemento|  16 - 18\n",
    "Grava|  37 - 47\n",
    "Arena|  24 - 34\n",
    "Agua|  11 - 15\n"
   ]
  },
  {
   "cell_type": "markdown",
   "metadata": {},
   "source": [
    "La dosificación está en **\"Litros\"**, ya que es la manera de medicicón usada en obra. Los costos de cada elemento son:\n",
    "\n",
    "Ingrediente|Costo por litro\n",
    ":----|----\n",
    "Cemento|$\\$$4.39\n",
    "Grava|$\\$$3.70\n",
    "Arena|$\\$$2.70\n",
    "Agua|$\\$$1.50\n",
    "  "
   ]
  },
  {
   "cell_type": "markdown",
   "metadata": {},
   "source": [
    "La Funcion objetivo toma los valores del costo por litro de cada compuesto, ya que el objetivo es minimizar el costo.\n",
    "+ $4.39x_1$ + $3.70x_2 +2.70x_3 + 1.50x_4 $ = minimizar costo\n"
   ]
  },
  {
   "cell_type": "code",
   "execution_count": null,
   "metadata": {},
   "outputs": [],
   "source": []
  }
 ],
 "metadata": {
  "kernelspec": {
   "display_name": "Python 3",
   "language": "python",
   "name": "python3"
  },
  "language_info": {
   "codemirror_mode": {
    "name": "ipython",
    "version": 3
   },
   "file_extension": ".py",
   "mimetype": "text/x-python",
   "name": "python",
   "nbconvert_exporter": "python",
   "pygments_lexer": "ipython3",
   "version": "3.7.3"
  }
 },
 "nbformat": 4,
 "nbformat_minor": 2
}
